{
 "cells": [
  {
   "attachments": {},
   "cell_type": "markdown",
   "metadata": {},
   "source": [
    "**Instructors**: Prof. Antonio Ortega (aortega@usc.edu)\n",
    "\n",
    "**Teaching Assistant**: Jiazhi Li (jiazhil@usc.edu)\n",
    "\n",
    "**Notebooks**: Written by Alexios Rustom (arustom@usc.edu)"
   ]
  },
  {
   "cell_type": "markdown",
   "metadata": {},
   "source": [
    "# Anaconda & Environments & Jupyter Notebook"
   ]
  },
  {
   "cell_type": "markdown",
   "metadata": {},
   "source": [
    "\n",
    "1. A 64-bit Anaconda version can be downloaded from: [Anaconda](https://www.anaconda.com)\n",
    "    * Anaconda is a package manager tool. Downloaded libraries and packages are confined to environments, and Anaconda prevents conflicts between packages of different projects\n",
    "    * Anaconda needs to be the default python tool in the installation prompt\n",
    "    * **Anaconda should be added to PATH**\n",
    "    \n",
    "\n",
    "\n",
    "<br/>\n",
    "\n",
    "2. Once the download is complete:\n",
    "    * For Linux and Mac users, open the standard terminal integrated in your system\n",
    "    * For Windows users, use the Anaconda Prompt Terminal\n",
    "\n",
    "<br/>\n",
    "\n",
    "3. Create a new environment using: \n",
    "    * conda create --name <b>ENVNAME</b> python=<b>PythonVersion</b>. Example: conda create --name <b>firstProject</b> python=<b>3.9</b>\n",
    "\n",
    "<br/>\n",
    "\n",
    "4. Environment activation/deactivation using:\n",
    "    * Activation: conda activate <b>ENVNAME</b>. Example: conda activate <b>firstProject</b>\n",
    "    * Deactivation: conda deactivate\n",
    "    * For more information about environments: [Managing Enviroments](https://conda.io/projects/conda/en/latest/user-guide/tasks/manage-environments.html)\n",
    "\n",
    "<br/>\n",
    "\n",
    "5. Jupyter notebook Installation using:\n",
    "    * conda install jupyter\n",
    "\n",
    "<br/>\n",
    "\n",
    "6. Common useful packages relevant to Machine Learning:\n",
    "    * <b>Python Data Analysis Library:</b> conda install pandas\n",
    "    * <b> Visualization with Python: </b> conda install matplotlib\n",
    "    * <b> Machine Learning in Python: </b> conda install scikit-learn. Note that <b>numpy</b> & <b>scipy</b>, useful linear algebra and statistics tools, are installed with <b>scikit-learn</b>.\n",
    "\n",
    "<br/>\n",
    "\n",
    "7. Open Jupyter notebook:\n",
    "    * Navigate in the terminal to your desired working directory\n",
    "    * In the console, enter: <b> jupyter notebook</b>\n",
    "    * For more information about Jupyter Notebook: [Jupyter Notebook Guide](https://www.dataquest.io/blog/jupyter-notebook-tutorial/)\n",
    "\n",
    "<br/>\n"
   ]
  },
  {
   "cell_type": "markdown",
   "metadata": {},
   "source": [
    "# Importing Libraries\n",
    "\n",
    "Libraries are publicly available repositories of code. You will need to import them into your projects using the <b>import</b> keyword. Libraries can also be given an aliad using the <b>as</b> keyword."
   ]
  },
  {
   "cell_type": "code",
   "execution_count": 2,
   "metadata": {},
   "outputs": [],
   "source": [
    "import numpy as np\n",
    "import pandas as pd\n",
    "import seaborn as sns\n",
    "import matplotlib.pyplot as plt\n",
    "from sklearn.linear_model import LinearRegression as LinReg"
   ]
  }
 ],
 "metadata": {
  "kernelspec": {
   "display_name": "Python 3 (ipykernel)",
   "language": "python",
   "name": "python3"
  },
  "language_info": {
   "codemirror_mode": {
    "name": "ipython",
    "version": 3
   },
   "file_extension": ".py",
   "mimetype": "text/x-python",
   "name": "python",
   "nbconvert_exporter": "python",
   "pygments_lexer": "ipython3",
   "version": "3.9.18"
  },
  "vscode": {
   "interpreter": {
    "hash": "6200758b7673adf34ae50bfa4217006f2c557feffe45080c236eaee64db53788"
   }
  }
 },
 "nbformat": 4,
 "nbformat_minor": 4
}
