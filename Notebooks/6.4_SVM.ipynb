{
 "cells": [
  {
   "attachments": {},
   "cell_type": "markdown",
   "metadata": {},
   "source": [
    "**Instructors**: Prof. Antonio Ortega (aortega@usc.edu)\n",
    "\n",
    "**Teaching Assistant**: Jiazhi Li (jiazhil@usc.edu)\n",
    "\n",
    "**Book**: Watt, J., Borhani, R., & Katsaggelos, A. K. (2020). Machine learning refined: Foundations, algorithms, and applications. Cambridge University Press.\n",
    "\n",
    "**Notebooks**: Written by Alexios Rustom (arustom@usc.edu) and based on the following **Github repository**: [notebooks](https://github.com/jermwatt/machine_learning_refined/tree/gh-pages/presentations/2nd_edition/jupyter%20%2B%20reveal.js%20version)"
   ]
  },
  {
   "cell_type": "markdown",
   "metadata": {},
   "source": [
    "# Support Vector Machines"
   ]
  },
  {
   "cell_type": "code",
   "execution_count": 15,
   "metadata": {},
   "outputs": [],
   "source": [
    "import numpy as np\n",
    "import matplotlib.pyplot as plt\n",
    "import pandas as pd\n",
    "import time\n",
    "import copy\n",
    "from IPython.display import clear_output\n",
    "readDataPath = '../readData/'"
   ]
  },
  {
   "cell_type": "code",
   "execution_count": 16,
   "metadata": {},
   "outputs": [],
   "source": [
    "## This code cell will not be shown in the HTML version of this notebook\n",
    "# using an automatic differentiator - like the one imported via the statement below - makes coding up gradient descent a breeze\n",
    "from autograd import numpy as np\n",
    "from autograd import value_and_grad \n",
    "\n",
    "# gradient descent function - inputs: g (input function), alpha (steplength parameter), max_its (maximum number of iterations), w (initialization)\n",
    "def gradient_descent(g,alpha_choice,max_its,w, data, labels, inputs_flag = False ):\n",
    "    # compute the gradient function of our input function - note this is a function too\n",
    "    # that - when evaluated - returns both the gradient and function evaluations (remember\n",
    "    # as discussed in Chapter 3 we always ge the function evaluation 'for free' when we use\n",
    "    # an Automatic Differntiator to evaluate the gradient)\n",
    "    gradient = value_and_grad(g)\n",
    "\n",
    "    # run the gradient descent loop\n",
    "    weight_history = []      # container for weight history\n",
    "    cost_history = []        # container for corresponding cost function history\n",
    "    alpha = 0\n",
    "    for k in range(1,max_its+1):\n",
    "        # check if diminishing steplength rule used\n",
    "        if alpha_choice == 'diminishing':\n",
    "            alpha = 1/float(k+1)\n",
    "        else:\n",
    "            alpha = alpha_choice\n",
    "        \n",
    "        # evaluate the gradient, store current weights and cost function value\n",
    "        if (inputs_flag == True):\n",
    "            cost_eval,grad_eval = gradient(w,data,labels)\n",
    "        else:\n",
    "            cost_eval,grad_eval = gradient(w)\n",
    "            \n",
    "        weight_history.append(w)\n",
    "        cost_history.append(cost_eval)\n",
    "\n",
    "        # take gradient descent step\n",
    "        w = w - alpha*grad_eval\n",
    "            \n",
    "    # collect final weights\n",
    "    weight_history.append(w)\n",
    "    # compute final cost function value via g itself (since we aren't computing \n",
    "    # the gradient at the final step we don't get the final cost function value \n",
    "    # via the Automatic Differentiatoor) \n",
    "    if (inputs_flag == True):\n",
    "        cost_history.append(g(w,data,labels))\n",
    "    else:\n",
    "        cost_history.append(g(w))  \n",
    "    return weight_history,cost_history"
   ]
  },
  {
   "cell_type": "code",
   "execution_count": 17,
   "metadata": {},
   "outputs": [],
   "source": [
    "# import autograd.numpy as np\n",
    "from autograd import value_and_grad \n",
    "from autograd import hessian\n",
    "from autograd.misc.flatten import flatten_func\n",
    "from autograd import grad as compute_grad\n",
    "from autograd import hessian as compute_hess\n",
    "\n",
    "def newtons_method(g,max_its,w,epsilon, x, labels):        \n",
    "    # create gradient and hessian functions\n",
    "    #self.g = g\n",
    "    \n",
    "    # flatten gradient for simpler-written descent loop\n",
    "    flat_g, unflatten, w = flatten_func(g, w)\n",
    "    \n",
    "    grad = compute_grad(flat_g)\n",
    "    hess = compute_hess(flat_g)\n",
    "    \n",
    "    # create container for weight history \n",
    "    w_hist = []\n",
    "    cost_history = []\n",
    "    w_hist.append(unflatten(w))\n",
    "        \n",
    "    geval_old = flat_g(w,x,labels)\n",
    "    \n",
    "    for k in range(max_its):\n",
    "        # compute gradient and hessian\n",
    "        grad_val = grad(w,x,labels)\n",
    "        hess_val = hess(w,x,labels)\n",
    "        hess_val.shape = (np.size(w),np.size(w))\n",
    "\n",
    "        # solve linear system for weights\n",
    "        w = w - np.dot(np.linalg.pinv(hess_val + epsilon*np.eye(np.size(w))),grad_val)\n",
    "                \n",
    "        # eject from process if reaching singular system\n",
    "        geval_new = flat_g(w,x,labels)\n",
    "        if k > 2 and geval_new > geval_old:\n",
    "            print ('singular system reached')\n",
    "            time.sleep(1.5)\n",
    "            clear_output()\n",
    "            return w_hist\n",
    "        else:\n",
    "            geval_old = geval_new\n",
    "            \n",
    "        # record current weights\n",
    "        w_hist.append(unflatten(w))\n",
    "    \n",
    "    return w_hist"
   ]
  },
  {
   "cell_type": "code",
   "execution_count": 18,
   "metadata": {},
   "outputs": [],
   "source": [
    "def margin_perceptron(w,x,y): #Equation 6.50\n",
    "    cost = 0\n",
    "    for p in range(0,len(y)):\n",
    "        x_p = x[p]\n",
    "        y_p = y[p]\n",
    "        a_p = w[0] + sum([a*b for a,b in zip(w[1:],x_p)])\n",
    "        cost += np.maximum(0,1-y_p*a_p)\n",
    "    return cost"
   ]
  },
  {
   "cell_type": "code",
   "execution_count": 19,
   "metadata": {},
   "outputs": [],
   "source": [
    "def softmargin(w,x,y): #SOFTMAX approximation\n",
    "    lam = 10**(-3)\n",
    "    cost = 0\n",
    "    for p in range(0,len(y)):\n",
    "        x_p = x[p]\n",
    "        y_p = y[p]\n",
    "        a_p = w[0] + sum([a*b for a,b in zip(w[1:],x_p)])                \n",
    "        cost += np.log(1 + np.exp(-y_p*a_p))+ lam*np.dot(w[1:].T,w[1:])\n",
    "    return cost"
   ]
  },
  {
   "cell_type": "markdown",
   "metadata": {},
   "source": [
    "- In this Section we begin by discussing an often used variation of the perceptron called the *margin perceptron*.  \n",
    "\n",
    "\n",
    "- This perspective extends the notion of the perceptron described previously under the assumption that a dataset is linearly separable.  \n",
    "\n",
    "\n",
    "- The margin perceptron will lead us to discuss *Support Vector Machines*, a popular perspective on linear classification again under the assumption of linear seperability. "
   ]
  },
  {
   "cell_type": "markdown",
   "metadata": {},
   "source": [
    "- This approach provides interesting theoretical insight into the two-class classification process - particularly under the assumption that the data is linearly seperable.  \n",
    "\n",
    "- However we will see that in practice the Support Vector Machines approach does not provide a learned decision boundary that substantially differs from those provided by logistic regression or, likewise, the perceptron. "
   ]
  },
  {
   "cell_type": "markdown",
   "metadata": {},
   "source": [
    "## The margin-perceptron"
   ]
  },
  {
   "cell_type": "markdown",
   "metadata": {},
   "source": [
    "- Suppose once again that we have a two-class classification training dataset of $P$ points $\\left\\{ \\left(\\mathbf{x}_{p},y_{p}\\right)\\right\\} _{p=1}^{P}$ with the labels $y_p \\in \\{-1,+1\\}$.  \n",
    "\n",
    "\n",
    "- Suppose for the time being that we are dealing with a two-class dataset that is linearly separable with a known linear decision boundary\n",
    "\n",
    "\\begin{equation}\n",
    "\\mathring{\\mathbf{x}}^{T}\\mathbf{w}^{\\,} = 0.\n",
    "\\end{equation}\n",
    "\n",
    "\n",
    "- Suppose even further that this decision boundary passes evenly through the region separating our two classes.  "
   ]
  },
  {
   "cell_type": "markdown",
   "metadata": {},
   "source": [
    "- This separating hyperplane creates a buffer between the two classes confined between two evenly shifted versions of itself.\n",
    "\n",
    "\n",
    "- One version that lies on the positive side of the separator and just touches the class having labels $y_{p}=+1$ taking the form $\\mathring{\\mathbf{x}}^{T}\\mathbf{w}^{\\,}  =+1$, and one lying on the negative side of it just touching the class with labels $y_{p}=-1$ taking the form $\\mathring{\\mathbf{x}}^{T}\\mathbf{w}^{\\,} =-1$.  \n",
    "\n",
    "- The translations above and below the separating hyperplane are more generally defined as $\\mathring{\\mathbf{x}}^{T}\\mathbf{w}^{\\,} =+\\beta^{\\,}$ and $\\mathring{\\mathbf{x}}^{T}\\mathbf{w}^{\\,} =-\\beta^{\\,}$ respectively, where $\\beta>0$. "
   ]
  },
  {
   "cell_type": "markdown",
   "metadata": {},
   "source": [
    "- However by dividing off $\\beta$ in both equations and reassigning the variables as $\\mathbf{w}^{\\,}\\longleftarrow\\frac{\\mathbf{w}^{\\,}}{\\beta}$ we can leave out the redundant parameter $\\beta$ and have the two translations as stated $\\mathring{\\mathbf{x}}^{T}\\mathbf{w}^{\\,}=\\pm1$. \n",
    "\n",
    "\n",
    "- The fact that all points in the $+1$ class lie exactly on or on the positive side of $\\mathring{\\mathbf{x}}^{T}\\mathbf{w}^{\\,}=+1$, and all points in the $-1$ class lie exactly on or on the negative side of $\\mathring{\\mathbf{x}}^{T}\\mathbf{w}^{\\,}=-1$ can be written formally as the following conditions\n",
    "\n",
    "\n",
    "\\begin{equation}\n",
    "\\begin{array}{cc}\n",
    "\\mathring{\\mathbf{x}}^{T}\\mathbf{w}^{\\,}\\geq1 & \\,\\,\\,\\,\\text{if} \\,\\,\\, y_{p}=+1\\\\\n",
    "\\,\\,\\,\\, \\mathring{\\mathbf{x}}^{T}\\mathbf{w}^{\\,}\\leq-1 & \\,\\,\\,\\,\\text{if} \\,\\,\\, y_{p}=-1\n",
    "\\end{array}\n",
    "\\end{equation}"
   ]
  },
  {
   "cell_type": "markdown",
   "metadata": {},
   "source": [
    "- We can combine these conditions into a single statement by multiplying each by their respective label values, giving the single inequality $y_{p}^{\\,}\\,\\mathring{\\mathbf{x}}^{T}\\mathbf{w}^{\\,}\\geq1$ which can be equivalently written as a point-wise cost\n",
    "\n",
    "\\begin{equation}\n",
    "g_p\\left(\\mathbf{w}\\right) = \\text{max}\\left(0,\\,1-y_{p}^{\\,}\\,\\mathring{\\mathbf{x}}^{T}\\mathbf{w}^{\\,}\\right)=0\n",
    "\\end{equation}\n",
    "\n",
    "\n",
    "- Again, this value is always nonnegative. Summing up all $P$ equations of the form above gives the *Margin-Perceptron* cost\n",
    "\n",
    "\\begin{equation}\n",
    "g\\left(\\mathbf{w}\\right)=\\underset{p=1}{\\overset{P}{\\sum}}\\text{max}\\left(0,\\,1-y_{p}^{\\,}\\,\\mathring{\\mathbf{x}}^{T}\\mathbf{w}^{\\,}\\right)\n",
    "\\end{equation}"
   ]
  },
  {
   "cell_type": "markdown",
   "metadata": {},
   "source": [
    "- Notice the striking similarity between the original perceptron cost from the previous post and the margin perceptron cost above: naively we have just 'added a $1$' to the non-zero input of the max function in each summand. \n",
    "\n",
    "\n",
    "- However this additional $1$ prevents the issue of a trivial zero solution with the original perceptron discussed previously, which simply does not arise here. "
   ]
  },
  {
   "cell_type": "markdown",
   "metadata": {},
   "source": [
    "- If the data is indeed linearly separable any hyperplane passing between the two classes will have parameters $\\mathbf{w}$ where $g\\left(\\mathbf{w}\\right)=0$. \n",
    "\n",
    "\n",
    "- However the margin perceptron is still a valid cost function even if the data is not linearly separable. \n",
    "\n",
    "\n",
    "- The only difference is that with such a dataset we can not make the criteria above hold for all points in the dataset. \n",
    "\n",
    "\n",
    "- Thus a violation for the $p^{\\textrm{th}}$ point adds the positive value of $1-y_{p}^{\\,}\\,\\mathring{\\mathbf{x}}^{T}\\mathbf{w}^{\\,}$ to the cost function."
   ]
  },
  {
   "cell_type": "markdown",
   "metadata": {},
   "source": [
    "## The softmax and Margin-Perceptron cost"
   ]
  },
  {
   "cell_type": "markdown",
   "metadata": {},
   "source": [
    "- If we have modeled something well but the associated cost function is difficult to minimize it can be more expedient to re-fashion the cost, even if we lose considerable modeling precision, if the new cost function is considerably easier to optimize.  \n",
    "\n",
    "\n",
    "- Here 'easier to optimize' could mean a number of things - perhaps a steplength parameter is less sensitive (meaning a larger range of potential values will provide good results), or a broader set of optimization tools can be brought to bear. \n",
    "\n",
    "\n",
    "- The opposite holds as well - a cost function that is easy to minimize but models no useful phenomenon is a mere curiosity."
   ]
  },
  {
   "cell_type": "markdown",
   "metadata": {},
   "source": [
    "- As with the perceptron, one way to smooth out the margin-perceptron here is by replacing the $\\text{max}$ operator with $\\text{softmax}$. Doing so in one summand of the margin-perceptron gives the related summand\n",
    "\n",
    "\n",
    "\\begin{equation}\n",
    "\\text{soft}\\left(0,1-y_{p}^{\\,}\\,\\mathring{\\mathbf{x}}^{T}\\mathbf{w}^{\\,}\\right) = \\text{log}\\left( 1 + e^{1-y_{p}^{\\,}\\,\\mathring{\\mathbf{x}}^{T}\\mathbf{w}^{\\,}}\\right)\n",
    "\\end{equation}\n",
    "\n",
    "\n",
    "- Right away if we were to sum over all $P$ we could form a softmax-based cost function that closely matches the margin-perceptron. "
   ]
  },
  {
   "cell_type": "markdown",
   "metadata": {},
   "source": [
    "- But note how in the derivation of the margin perceptron the '1' used in the $1-y_{p}^{\\,}\\left(\\mathring{\\mathbf{x}}^{T}\\mathbf{w}^{\\,}\\right)$ component of the cost could have been any number we wanted - it was a normalization factor for the width of the margin and, by convention, we used '1'.  \n",
    "\n",
    "\n",
    "- Instead we could have chosen any value $\\epsilon > 0$ in which case the set of $P$ conditions stated in equation (2) would be equivalently stated as\n",
    "\n",
    "\\begin{equation}\n",
    "\\text{max}\\left(0,\\,\\epsilon-y_{p}^{\\,}\\,\\mathring{\\mathbf{x}}^{T}\\mathbf{w}^{\\,}\\right)=0\n",
    "\\end{equation}"
   ]
  },
  {
   "cell_type": "markdown",
   "metadata": {},
   "source": [
    "- So for all $p$ and the Margin-Perceptron equivalently stated as \n",
    "\n",
    "\\begin{equation}\n",
    "g\\left(\\mathbf{w}\\right)=\\underset{p=1}{\\overset{P}{\\sum}}\\text{max}\\left(0,\\,\\epsilon-y_{p}^{\\,}\\,\\mathring{\\mathbf{x}}^{T}\\mathbf{w}^{\\,}\\right)\n",
    "\\end{equation}\n",
    "\n",
    "\n",
    "- And the softmax version of one summand here being\n",
    "\n",
    "\\begin{equation}\n",
    "\\text{soft}\\left(0,\\epsilon-y_{p}^{\\,}\\,\\mathring{\\mathbf{x}}^{T}\\mathbf{w}^{\\,}\\right) = \\text{log}\\left( 1 + e^{\\epsilon-y_{p}^{\\,}\\,\\mathring{\\mathbf{x}}^{T}\\mathbf{w}^{\\,}}\\right)\n",
    "\\end{equation}"
   ]
  },
  {
   "cell_type": "markdown",
   "metadata": {},
   "source": [
    "- When $\\epsilon$ is quite small we of course have that $\\text{log}\\left( 1 + e^{\\epsilon-y_{p}^{\\,}\\,\\mathring{\\mathbf{x}}^{T}\\mathbf{w}^{\\,}}\\right) \\approx \\text{log}\\left( 1 + e^{-y_{p}^{\\,}\\,\\mathring{\\mathbf{x}}^{T}\\mathbf{w}^{\\,}}\\right)$.\n",
    "\n",
    "\n",
    "- That is, the same summand used for the (smoothed) perceptron and logistic regression.  \n",
    "\n",
    "\n",
    "- Thus, we can in fact use the same softmax cost function here as a smoothed version of our Margin-Perceptron cost\n",
    "\n",
    "\n",
    "\\begin{equation}\n",
    "g\\left(\\mathbf{w}\\right)=\\underset{p=1}{\\overset{P}{\\sum}}\\text{log}\\left( 1 + e^{-y_{p}^{\\,}\\,\\mathring{\\mathbf{x}}^{T}\\mathbf{w}^{\\,}}\\right)\n",
    "\\end{equation}"
   ]
  },
  {
   "cell_type": "markdown",
   "metadata": {},
   "source": [
    "- From the perspective of the standard perceptron this realization is somewhat redundant.\n",
    "\n",
    "\n",
    "- A decision boundary recovered via the perceptron on a linearly separable dataset will almost always have a non-zero margin. \n",
    "\n",
    "\n",
    "- So this just says its smoothed version will do the same."
   ]
  },
  {
   "cell_type": "markdown",
   "metadata": {},
   "source": [
    "##  A quest for the hyperplane with maximum margin"
   ]
  },
  {
   "cell_type": "markdown",
   "metadata": {},
   "source": [
    "- When two classes of data are linearly separable infinitely many hyperplanes could be drawn to separate the data. \n",
    "\n",
    "\n",
    "- Given that both classifiers (as well as any other decision boundary perfectly separating the data) would perfectly classify the data, is there one that we can say is the 'best' of all possible separating hyperplanes?  "
   ]
  },
  {
   "cell_type": "markdown",
   "metadata": {},
   "source": [
    "- One reasonable standard for judging the quality of these hyperplanes is via their margin lengths, that is the distance between the evenly spaced translates that just touch each class. \n",
    "\n",
    "\n",
    "- The larger this distance is the intuitively better the associated hyperplane separates the entire space given the particular distribution of the data. "
   ]
  },
  {
   "cell_type": "markdown",
   "metadata": {},
   "source": [
    "- In our venture to recover the maximum margin seperating hyperplane, it will be convenient to use our individual notation for the bias and feature-touching weights:\n",
    "\n",
    "\\begin{equation}\n",
    "\\text{(bias):}\\,\\, b = w_0 \\,\\,\\,\\,\\,\\,\\,\\, \\text{(feature-touching weights):} \\,\\,\\,\\,\\,\\, \\boldsymbol{\\omega} = \n",
    "\\begin{bmatrix}\n",
    "w_1 \\\\\n",
    "w_2 \\\\ \n",
    "\\vdots \\\\\n",
    "w_N\n",
    "\\end{bmatrix}.\n",
    "\\end{equation}"
   ]
  },
  {
   "cell_type": "markdown",
   "metadata": {},
   "source": [
    "- With this notation we can express a linear decision boundary as\n",
    "\n",
    "\n",
    "\\begin{equation}\n",
    "\\mathring{\\mathbf{x}}_{\\,}^T \\mathbf{w} = b + \\overset{\\,}{\\mathbf{x}}_{\\,}^T\\boldsymbol{\\omega} = 0.\n",
    "\\end{equation}"
   ]
  },
  {
   "cell_type": "markdown",
   "metadata": {},
   "source": [
    "- To find the separating hyperplane with maximum margin we aim to find a set of parameters so that the region defined by $b+\\mathbf{x}^{T}\\boldsymbol{\\omega}^{\\,}=\\pm1$, with heach translate just touching one of the two classes, has the largest possible margin.  \n",
    "\n",
    "\n",
    "- The margin can be determined by calculating the distance between any two points (one from each translated hyperplane) both lying on the normal vector $\\boldsymbol{\\omega}$. "
   ]
  },
  {
   "cell_type": "markdown",
   "metadata": {},
   "source": [
    "- Denoting by $\\mathbf{x}_{1}$ and $\\mathbf{x}_{2}$ the points on vector $\\boldsymbol{\\omega}$ belonging to the *positive* and *negative* translated hyperplanes, respectively, the margin is computed simply as the length of the line segment connecting $\\mathbf{x}_{1}$ and $\\mathbf{x}_{2}$, i.e., $\\left\\Vert \\mathbf{x}_{1}-\\mathbf{x}_{2}\\right\\Vert _{2}$. \n",
    "\n",
    "\n",
    "- The margin can be written much more conveniently by taking the difference of the two translates evaluated at $\\mathbf{x}_{1}$ and $\\mathbf{x}_{2}$ respectively, as \n",
    "\n",
    "\\begin{equation}\n",
    "\\left(w_0^{\\,} + \\mathbf{x}_{1}^T\\mathbf{w}^{\\,}\\right) - \\left(w_0^{\\,} + \\mathbf{x}_{2}^T\\mathbf{w}^{\\,}\\right) =\\left(\\mathbf{x}_{1}^{\\,}-\\mathbf{x}_{2}^{\\,}\\right)^{T}\\boldsymbol{\\omega}=2\n",
    "\\end{equation}"
   ]
  },
  {
   "cell_type": "markdown",
   "metadata": {},
   "source": [
    "- Using the inner product rule, and the fact that the two vectors $\\mathbf{x}_{1}-\\mathbf{x}_{2}$ and $\\boldsymbol{\\omega}$ are parallel to each other, we can solve for the margin directly in terms of $\\boldsymbol{\\omega}$, as \n",
    "\n",
    "\\begin{equation}\n",
    "\\left\\Vert \\mathbf{x}_{1}-\\mathbf{x}_{2} \\right\\Vert _2=\\frac{2}{\\left\\Vert \\boldsymbol{\\omega}\\right\\Vert _{2}}\n",
    "\\end{equation}\n",
    "\n",
    "\n",
    "- Therefore finding the separating hyperplane with maximum margin is equivalent to finding the one with the smallest possible normal vector $\\boldsymbol{\\omega}$. "
   ]
  },
  {
   "cell_type": "markdown",
   "metadata": {},
   "source": [
    "## The hard-margin and soft-margin SVM problems"
   ]
  },
  {
   "cell_type": "markdown",
   "metadata": {},
   "source": [
    "- In order to find a separating hyperplane for the data with minimum length normal vector we can simply combine...\n",
    "\n",
    "\n",
    "- ...our desire to minimize $\\left\\Vert \\boldsymbol{\\omega}\\right\\Vert _{2}^{2}$...\n",
    "\n",
    "\n",
    "- ...subject to the constraint that the hyperplane perfectly separates the data (given by the margin criterion described above). \n",
    "\n",
    "\n",
    "- This gives the so-called *hard-margin support vector machine* problem\n",
    "\n",
    "\n",
    "\\begin{equation}\n",
    "\\begin{aligned}\\underset{b,\\,\\boldsymbol{\\omega}}{\\text{minimize}} & \\,\\,\\left\\Vert \\boldsymbol{\\omega}\\right\\Vert _{2}^{2}\\\\\n",
    "\\text{subject to} & \\,\\,\\,\\text{max}\\left(0,\\,1-y_{p}^{\\,}\\left(b+\\mathbf{x}_{p}^{T}\\boldsymbol{\\omega}\\right) \\right)=0,\\,\\,\\,\\,p=1,...,P.\n",
    "\\end{aligned}\n",
    "\\end{equation}"
   ]
  },
  {
   "cell_type": "markdown",
   "metadata": {},
   "source": [
    "- The set of constraints here are precisely the margin-perceptron guarantee that the hyperplane we recover separates the data perfectly.\n",
    "\n",
    "\n",
    "- Unlike some of the other constrained optimization problems we have previously discussed this cannot be solved in closed form, but must be optimized iteratively."
   ]
  },
  {
   "cell_type": "markdown",
   "metadata": {},
   "source": [
    "- While there are *constrained optimization* algorithms that are designed to solve problems like this as stated.\n",
    "\n",
    "\n",
    "- We can also solve the hard-margin problem by *relaxing* the constraints and forming an unconstrained formulation of the problem.  \n",
    "\n",
    "\n",
    "- To do this we merely bring the constraints up, forming a single cost function to be minimized\n",
    "\n",
    "\n",
    "\\begin{equation}\n",
    "g\\left(b,\\boldsymbol{\\omega}\\right)=\\underset{p=1}{\\overset{P}{\\sum}}\\text{max}\\left(0,\\,1-y_{p}^{\\,}\\left(b+\\mathbf{x}_{p}^{T}\\boldsymbol{\\omega}\\right) \\right) +  \\lambda \\left \\Vert\\boldsymbol{\\omega}\\right\\Vert _{2}^{2}\n",
    "\\end{equation}"
   ]
  },
  {
   "cell_type": "markdown",
   "metadata": {},
   "source": [
    "- Here the parameter $\\lambda\\geq0$ is called a penalty or regularization parameter (we have seen the notion of regularization in the previous Section as well).  \n",
    "\n",
    "\n",
    "- When $\\lambda$ is set to a small positive value we put more 'pressure' on the cost function to make sure the constraints\n",
    "\n",
    "\\begin{equation}\n",
    "\\text{max}\\left(0,\\,1-y_{p}^{\\,}\\left(b+\\mathbf{x}_{p}^{T}\\boldsymbol{\\omega}\\right) \\right)=0,\\,\\,\\,\\,p=1,...,P\n",
    "\\end{equation}\n",
    "\n",
    "- In theory when $\\lambda$ is made very small the formulation above matches the original constrained form.  "
   ]
  },
  {
   "cell_type": "markdown",
   "metadata": {},
   "source": [
    "- Because of this $\\lambda$ is often set to be quite small in practice.\n",
    "\n",
    "\n",
    "- This *regularized* form of the Margin-Perceptron cost function is referred to as the *soft-margin support vector machine cost*.  "
   ]
  },
  {
   "cell_type": "markdown",
   "metadata": {},
   "source": [
    "#### <span style=\"color:#a50e3e;\">Example. </span>  Comparing the SVM decision boundary on linearly separable data"
   ]
  },
  {
   "cell_type": "markdown",
   "metadata": {},
   "source": [
    "- In this example we compare the decision boundary learned by support vector machine with three boundaries learned via the margin-perceptron.  \n",
    "\n",
    "\n",
    "- All of the recovered boundaries perfectly separate the two classes, but the support vector machine decision boundary is the one that provides the maximum margin (right panel)...\n",
    "\n",
    "\n",
    "- ...while those recovered by the margin-perceptron (left panel, each colored differently) can ostensibly be any of the infinitely many linear decision boundaries that separate the two classes. "
   ]
  },
  {
   "cell_type": "code",
   "execution_count": 20,
   "metadata": {},
   "outputs": [],
   "source": [
    "data_loaded = np.loadtxt(readDataPath + 'svm_demo_data.csv',delimiter = ',')\n",
    "data = copy.deepcopy(data_loaded).T"
   ]
  },
  {
   "cell_type": "code",
   "execution_count": 21,
   "metadata": {},
   "outputs": [],
   "source": [
    "x = data[:-1]\n",
    "y_labels = data[-1]"
   ]
  },
  {
   "cell_type": "markdown",
   "metadata": {},
   "source": [
    "### Margin-Perceptron"
   ]
  },
  {
   "cell_type": "code",
   "execution_count": 22,
   "metadata": {},
   "outputs": [],
   "source": [
    "lam = 0; max_its = 50; alpha_choice = 'diminishing'; g = margin_perceptron;"
   ]
  },
  {
   "cell_type": "code",
   "execution_count": 23,
   "metadata": {},
   "outputs": [],
   "source": [
    "num_margin_perceptron_runs = 3"
   ]
  },
  {
   "cell_type": "code",
   "execution_count": 24,
   "metadata": {},
   "outputs": [],
   "source": [
    "big_whist = []\n",
    "for i in range(num_margin_perceptron_runs):\n",
    "    w_init = np.random.randn(np.shape(x)[1]+1,1)\n",
    "    #w_hist, cost_history = gradient_descent(g,alpha_choice,max_its,w_init, data = x.T+1, labels = y_labels, inputs_flag=True)\n",
    "    w_hist, cost_history = gradient_descent(g,alpha_choice,max_its,w_init, data = x.T, labels = y_labels, inputs_flag=True)\n",
    "    w = w_hist[-1]\n",
    "    big_whist.append(w)"
   ]
  },
  {
   "cell_type": "markdown",
   "metadata": {},
   "source": [
    "### Soft Margin-SVM"
   ]
  },
  {
   "cell_type": "code",
   "execution_count": 25,
   "metadata": {},
   "outputs": [],
   "source": [
    "lam = 10**(-3); max_its = 10; epsilon = 10**-8; g = softmargin"
   ]
  },
  {
   "cell_type": "code",
   "execution_count": 26,
   "metadata": {},
   "outputs": [],
   "source": [
    "w_init = np.random.randn(np.shape(x)[0]+1,1)\n",
    "# w_hist = newtons_method(g,max_its,w_init, epsilon, x.T+1, y_labels)\n",
    "w_hist = newtons_method(g,max_its,w_init, epsilon, x.T, y_labels)\n",
    "w = w_hist[-1]\n",
    "big_whist.append(w)"
   ]
  },
  {
   "cell_type": "code",
   "execution_count": 27,
   "metadata": {},
   "outputs": [
    {
     "data": {
      "image/png": "[encoded data removed]",
      "text/plain": [
       "<Figure size 1000x500 with 2 Axes>"
      ]
     },
     "metadata": {},
     "output_type": "display_data"
    }
   ],
   "source": [
    "fig, [ax1,ax2] = plt.subplots(1, 2, figsize=(10, 5))\n",
    "\n",
    "col = np.where(data[-1]==1,'r','b')\n",
    "#ax1.scatter(data[0]+1,data[1]+1,c= col, s=100,facecolors='k', edgecolors='k')\n",
    "#ax2.scatter(data[0]+1,data[1]+1,c= col, s=100,facecolors='k', edgecolors='k')\n",
    "ax1.scatter(data[0],data[1],c= col, s=100,facecolors='k', edgecolors='k')\n",
    "ax2.scatter(data[0],data[1],c= col, s=100,facecolors='k', edgecolors='k')\n",
    "ax1.set_xlabel('X1', fontsize = 12)\n",
    "ax2.set_xlabel('X1', fontsize = 12)\n",
    "ax1.set_ylabel('X2', fontsize = 12)\n",
    "ax2.set_ylabel('X2', fontsize = 12)\n",
    "\n",
    "#minx = min(min(x[0]),min(x[1]))+1\n",
    "#maxx = max(max(x[0]),max(x[1]))+1\n",
    "minx = min(min(x[0]),min(x[1]))\n",
    "maxx = max(max(x[0]),max(x[1]))\n",
    "gapx = (maxx - minx)*0.25\n",
    "minx -= gapx\n",
    "maxx += gapx\n",
    "s = np.linspace(minx,maxx,400)\n",
    "for i in range(num_margin_perceptron_runs):\n",
    "    w = big_whist[i]\n",
    "    # plot \n",
    "    t = - ((w[0])/float(w[2]) + w[1]/float(w[2])*s ) \n",
    "    ax1.plot(s,t,linewidth = 2,zorder = 1)\n",
    "\n",
    "\n",
    "w = big_whist[-1]\n",
    "r = np.linspace(minx,maxx,400)\n",
    "x1_vals,x2_vals = np.meshgrid(r,r)\n",
    "x1_vals.shape = (len(r)**2,1)\n",
    "x2_vals.shape = (len(r)**2,1)\n",
    "\n",
    "g_vals = np.tanh( w[0] + w[1]*x1_vals + w[2]*x2_vals ) #values between -1 and 1\n",
    "g_vals = np.asarray(g_vals, dtype=np.double)\n",
    "x1_vals.shape = (len(r),len(r))\n",
    "x2_vals.shape = (len(r),len(r))\n",
    "g_vals.shape = (len(r),len(r))\n",
    "g_vals = np.sign(g_vals) + 1\n",
    "ax2.contourf(x1_vals,x2_vals,g_vals,alpha = 0.1,levels = range(0,2+1), colors = ['blue', 'red'])\n",
    "\n",
    "\n",
    "w_c = copy.deepcopy(w)\n",
    "w_0 = -w_c[0]/w_c[2]  # amount to subtract from the vertical of each point\n",
    "\n",
    "# setup line to project onto\n",
    "w_1 = -w_c[1]/w_c[2]\n",
    "\n",
    "#ax2.plot(1,w_1,'x')\n",
    "#ax2.plot(0,0,'o')\n",
    "# print(w_1)\n",
    "line_pt = np.asarray([1,*w_1], dtype=np.double)\n",
    "line_pt.shape = (2,1)\n",
    "line_hat = line_pt / np.linalg.norm(line_pt)\n",
    "line_hat.shape = (2,1)\n",
    "\n",
    "# loop over points, compute distance of projections                     \n",
    "dists = []\n",
    "for j in range(len(y_labels)):\n",
    "    #pt = copy.deepcopy(x[:,j]+1)\n",
    "    pt = copy.deepcopy(x[:,j])\n",
    "    pt[1]-= w_0\n",
    "    pt.shape = (2,1)\n",
    "    proj = np.dot(line_hat.T,pt)*line_hat  \n",
    "    proj.shape = (2,1)\n",
    "    d = np.linalg.norm(proj - pt)\n",
    "    #ax2.plot((proj - pt)[0],(proj - pt)[1],'d')\n",
    "    dists.append(d)                  \n",
    "\n",
    "#ax2.plot(x[:,j][0]+1,x[:,j][1]+1,'o')\n",
    "#ax2.plot(proj[0],proj[1],'s')\n",
    "# find smallest distance to class point\n",
    "ind = np.argmin(dists)\n",
    "#pt_min = copy.deepcopy(x[:,ind]+1)\n",
    "pt_min = copy.deepcopy(x[:,ind])\n",
    "\n",
    "#ax2.plot(x[:,ind][0]+1,x[:,ind][1]+1,'s')\n",
    "# create new intercept with y intercept (thus it will be with respect to line that passes through the origin)\n",
    "w_new = -w_1*pt_min[0] + pt_min[1]\n",
    "\n",
    "margin = copy.deepcopy(w_new)\n",
    "\n",
    "# plot margin planes\n",
    "s = np.linspace(minx,maxx,400)\n",
    "t = - ((w[0])/float(w[2]) + w[1]/float(w[2])*s ) + margin\n",
    "ax2.plot(s,t,color = 'k',linewidth = 1,zorder = 1)\n",
    "\n",
    "t = - ((w[0])/float(w[2]) + w[1]/float(w[2])*s ) - margin\n",
    "ax2.plot(s,t,color = 'k',linewidth = 1,zorder = 1)\n",
    "\n",
    "ax1.set_xlim(minx,maxx); ax1.set_ylim(minx,maxx)\n",
    "ax2.set_xlim(minx,maxx); ax2.set_ylim(minx,maxx)\n",
    "    \n",
    "plt.show()"
   ]
  },
  {
   "cell_type": "markdown",
   "metadata": {},
   "source": [
    "## The SVM and noisy datasets"
   ]
  },
  {
   "cell_type": "markdown",
   "metadata": {},
   "source": [
    "- A very big practical benefit of the softmargin SVM problem is that it allows us it to deal with noisy imperfectly (linearly) separable data - which arise far more commonly in practice than datasets that are perfectly linearly separable.   \n",
    "\n",
    "\n",
    "- 'Noise' is permittable with the softmargin problem since regardless of the weights $b$ and $\\boldsymbol{\\omega}$, we always have some data point which is misclassified, i.e., for some $p$ that $\\text{max}\\left(0,\\,1-y_{p}^{\\,}\\left(b+\\mathbf{x}_{p}^{T}\\boldsymbol{\\omega}\\right) \\right)>0$.  \n",
    "\n",
    "\n",
    "- Such a case makes the first hard-margin formulation of SVMs infeasible, as no such $w_0$ and $\\boldsymbol{\\omega}$ even exist that satisfy the constraints.   "
   ]
  },
  {
   "cell_type": "markdown",
   "metadata": {},
   "source": [
    "- Because we commonly deal with non-separable datasets in practice the softmargin form of SVM is the version that is more frequently used.\n",
    "\n",
    "\n",
    "- However notice that once we forgo the assumption of perfectly (linear) separability the added value of a 'maximum margin hyperplane' proided by the SVM solution disappears since we *no longer have a margin to begin with*.  "
   ]
  },
  {
   "cell_type": "markdown",
   "metadata": {},
   "source": [
    "- Thus with many datasets in practice the softmargin problem does *not* provide a solution remarkably different than the perceptron or even logistic regression.  \n",
    "\n",
    "\n",
    "- Actually - with datasets that are not linearly separable - it often returns *exactly* the same solution provided by the perceptron or logistic regression."
   ]
  },
  {
   "cell_type": "markdown",
   "metadata": {},
   "source": [
    "- To see why this could be the case notice what happens to our softmargin SVM problem if we *smooth* the Margin-Perceptron portion of the cost using the *softmax* (as detailed previously).  \n",
    "\n",
    "\n",
    "- This gives a smoothed out soft-margin SVM cost function of the form\n",
    "\n",
    "\\begin{equation}\n",
    "g\\left(b,\\boldsymbol{\\omega}\\right)=\\underset{p=1}{\\overset{P}{\\sum}}\\text{log}\\left( 1 + e^{-y_{p}\\left(b+\\mathbf{x}_{p}^{T}\\boldsymbol{\\omega}\\right)}\\right) +  \\lambda \\left \\Vert\\boldsymbol{\\omega}\\right\\Vert _{2}^{2} \n",
    "\\end{equation}\n",
    "\n",
    "\n",
    "- which we can also identify as a regularized softmax perceptron or logistic regression. "
   ]
  },
  {
   "cell_type": "markdown",
   "metadata": {},
   "source": [
    "- Thus we can see that all three methods of linear two-class classification we have seen are very deeply connected, and why they tend to provide similar results on realistic (not linearly separabble) datasets."
   ]
  },
  {
   "cell_type": "markdown",
   "metadata": {},
   "source": [
    "# Which approach produces the best results?"
   ]
  },
  {
   "cell_type": "markdown",
   "metadata": {},
   "source": [
    "- We have now seen three approaches, logistic regression, the perceptron, and Support Vector Machines, each of brings a valuable and unique perspective to bear on two class classification.  \n",
    "\n",
    "\n",
    "- Which of these approaches 'works best' in practice?  As we have seen, in the end all three approaches are very tightly related and result in the minimization of the same (e.g., the Softmax cost) - or very similar - cost functions.  "
   ]
  },
  {
   "cell_type": "markdown",
   "metadata": {},
   "source": [
    "\n",
    "- Therefore it should come as little surprise that while they can differ from dataset to dataset in terms of their performance, in practice all three approaches typically give compariable results.  \n",
    "\n",
    "\n",
    "- Thus one should feel comfortable using any one of the three approaches or, if resources allow, apply multiple of them and keep whichever produces the best performance on a case by case basis."
   ]
  }
 ],
 "metadata": {
  "kernelspec": {
   "display_name": "Python 3 (ipykernel)",
   "language": "python",
   "name": "python3"
  },
  "language_info": {
   "codemirror_mode": {
    "name": "ipython",
    "version": 3
   },
   "file_extension": ".py",
   "mimetype": "text/x-python",
   "name": "python",
   "nbconvert_exporter": "python",
   "pygments_lexer": "ipython3",
   "version": "3.11.3"
  },
  "vscode": {
   "interpreter": {
    "hash": "1837a56ff6317400afe8f3ddb47b2c33c41130d8cbbd55e890b72602c954d6cc"
   }
  }
 },
 "nbformat": 4,
 "nbformat_minor": 4
}
